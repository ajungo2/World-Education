{
 "cells": [
  {
   "cell_type": "markdown",
   "metadata": {},
   "source": [
    "# Programming 2021- Dashboard Index\n",
    "\n",
    "Steps to create the dashboard: "
   ]
  },
  {
   "cell_type": "markdown",
   "metadata": {},
   "source": [
    "## Step 1: Import the libraries:"
   ]
  },
  {
   "cell_type": "code",
   "execution_count": 1,
   "metadata": {
    "ExecuteTime": {
     "end_time": "2021-06-05T06:51:07.873731Z",
     "start_time": "2021-06-05T06:51:07.441414Z"
    }
   },
   "outputs": [],
   "source": [
    "from jupyter_dash import JupyterDash"
   ]
  },
  {
   "cell_type": "code",
   "execution_count": 2,
   "metadata": {
    "ExecuteTime": {
     "end_time": "2021-06-05T06:51:49.748363Z",
     "start_time": "2021-06-05T06:51:07.882158Z"
    }
   },
   "outputs": [],
   "source": [
    "from Preprocessing import final_df"
   ]
  },
  {
   "cell_type": "code",
   "execution_count": 3,
   "metadata": {
    "ExecuteTime": {
     "end_time": "2021-06-05T06:51:49.752437Z",
     "start_time": "2021-06-05T06:51:49.749728Z"
    }
   },
   "outputs": [],
   "source": [
    "import dash\n",
    "import dash_core_components as dcc\n",
    "import dash_html_components as html\n",
    "import pandas as pd\n",
    "import dash_bootstrap_components as dbc\n",
    "from dash.dependencies import Input, Output\n",
    "import dash_table"
   ]
  },
  {
   "cell_type": "code",
   "execution_count": 4,
   "metadata": {
    "ExecuteTime": {
     "end_time": "2021-06-05T06:51:49.989317Z",
     "start_time": "2021-06-05T06:51:49.754398Z"
    }
   },
   "outputs": [],
   "source": [
    "import pandas as pd\n",
    "import matplotlib.pyplot as unique\n",
    "import numpy as np\n",
    "from IPython.display import display_html\n",
    "# Import the function for transfor the pd data frame to html format"
   ]
  },
  {
   "cell_type": "code",
   "execution_count": 5,
   "metadata": {
    "ExecuteTime": {
     "end_time": "2021-06-05T06:51:50.028680Z",
     "start_time": "2021-06-05T06:51:49.990640Z"
    }
   },
   "outputs": [],
   "source": [
    "from PreprocessingHtml import HTML as PreHtml"
   ]
  },
  {
   "cell_type": "code",
   "execution_count": 6,
   "metadata": {
    "ExecuteTime": {
     "end_time": "2021-06-05T06:51:52.564990Z",
     "start_time": "2021-06-05T06:51:50.030736Z"
    }
   },
   "outputs": [],
   "source": [
    "from Model import HTML as ModelHtml"
   ]
  },
  {
   "cell_type": "code",
   "execution_count": 7,
   "metadata": {
    "ExecuteTime": {
     "end_time": "2021-06-05T06:51:52.580994Z",
     "start_time": "2021-06-05T06:51:52.571552Z"
    }
   },
   "outputs": [],
   "source": [
    "from Conclusion import HTML as ConclusionHtml"
   ]
  },
  {
   "cell_type": "markdown",
   "metadata": {},
   "source": [
    "## Step 2: Create the proxy configuration\n",
    "\n",
    "When running in JupyterHub or Binder, call the `infer_jupyter_config` function to detect the proxy configuration."
   ]
  },
  {
   "cell_type": "code",
   "execution_count": 16,
   "metadata": {
    "ExecuteTime": {
     "end_time": "2021-06-05T06:52:00.380501Z",
     "start_time": "2021-06-05T06:51:52.583325Z"
    }
   },
   "outputs": [],
   "source": [
    "JupyterDash.infer_jupyter_proxy_config()"
   ]
  },
  {
   "cell_type": "markdown",
   "metadata": {},
   "source": [
    "## Step 3: Create the dashboard"
   ]
  },
  {
   "cell_type": "code",
   "execution_count": 9,
   "metadata": {
    "ExecuteTime": {
     "end_time": "2021-06-05T06:51:52.667152Z",
     "start_time": "2021-06-05T06:51:52.630918Z"
    }
   },
   "outputs": [],
   "source": [
    "app = JupyterDash(__name__, suppress_callback_exceptions=True,\n",
    "                  external_stylesheets=[dbc.themes.BOOTSTRAP])"
   ]
  },
  {
   "cell_type": "code",
   "execution_count": 10,
   "metadata": {
    "ExecuteTime": {
     "end_time": "2021-06-05T06:51:52.696689Z",
     "start_time": "2021-06-05T06:51:52.667696Z"
    }
   },
   "outputs": [],
   "source": [
    "\n",
    "SIDEBAR_STYLE = {\n",
    "    \"position\": \"fixed\",\n",
    "    \"top\": 0,\n",
    "    \"left\": 0,\n",
    "    \"bottom\": 0,\n",
    "    \"width\": \"16rem\",\n",
    "    \"padding\": \"2rem 1rem\",\n",
    "    \"background-color\": \"#f0efeb\",  # try #f8f9fa\n",
    "}\n",
    "\n",
    "\n",
    "# the styles for the main content position it to the right of the sidebar and\n",
    "# add some padding.\n",
    "\n",
    "CONTENT_STYLE = {\n",
    "    \"margin-left\": \"18rem\",\n",
    "    \"margin-right\": \"2rem\",\n",
    "    \"padding\": \"2rem 1rem\",\n",
    "}\n",
    "\n",
    "sidebar = html.Div(\n",
    "    [\n",
    "        html.H1(\"Global Education Data\", className=\"h1 font-weight-bold text-dark\"),\n",
    "        html.Hr(),\n",
    "        html.P(\n",
    "            \"Final Project-Programming 2021\", className=\"lead\"\n",
    "        ),\n",
    "        dbc.Nav(\n",
    "            [\n",
    "                dbc.NavLink(\"Summary data\", href=\"/\", active=\"exact\"),\n",
    "                dbc.NavLink(\"Pre-selection\",href=\"/PreProcessing\", active=\"exact\"),\n",
    "                dbc.NavLink(\"EDA\", href=\"/Eda\", active=\"exact\"),\n",
    "                dbc.NavLink(\"Model\", href=\"/Model\", active=\"exact\"),\n",
    "                dbc.NavLink(\"Conclusion\", href=\"/Conclusion\", active=\"exact\"),\n",
    "            ],\n",
    "            vertical=True,\n",
    "            pills=True,\n",
    "        ),\n",
    "    ],\n",
    "    style=SIDEBAR_STYLE,\n",
    ")\n",
    "\n",
    "content = html.Div(id=\"page-content\", style=CONTENT_STYLE)"
   ]
  },
  {
   "cell_type": "code",
   "execution_count": 11,
   "metadata": {
    "ExecuteTime": {
     "end_time": "2021-06-05T06:52:00.108987Z",
     "start_time": "2021-06-05T06:51:52.697173Z"
    }
   },
   "outputs": [],
   "source": [
    "from SummaryPage import HTML as SumPageHtml\n",
    "from SummaryPage import summary_callback"
   ]
  },
  {
   "cell_type": "code",
   "execution_count": 12,
   "metadata": {
    "ExecuteTime": {
     "end_time": "2021-06-05T06:52:00.327034Z",
     "start_time": "2021-06-05T06:52:00.109231Z"
    }
   },
   "outputs": [],
   "source": [
    "from Eda import HTML as EdaHtml\n",
    "from Eda import eda_callback"
   ]
  },
  {
   "cell_type": "code",
   "execution_count": 13,
   "metadata": {
    "ExecuteTime": {
     "end_time": "2021-06-05T06:52:00.330319Z",
     "start_time": "2021-06-05T06:52:00.327399Z"
    }
   },
   "outputs": [],
   "source": [
    "summary_callback(app)\n",
    "eda_callback(app)"
   ]
  },
  {
   "cell_type": "code",
   "execution_count": 14,
   "metadata": {
    "ExecuteTime": {
     "end_time": "2021-06-05T06:52:00.339350Z",
     "start_time": "2021-06-05T06:52:00.330833Z"
    }
   },
   "outputs": [],
   "source": [
    "app.layout = html.Div([dcc.Location(id=\"url\"), sidebar, content])\n",
    "\n",
    "\n",
    "@app.callback(Output(\"page-content\", \"children\"), [Input(\"url\", \"pathname\")])\n",
    "def render_page_content(pathname):\n",
    "    if pathname == \"/\":\n",
    "        # page_summary_layout #delete html.P input layout_...\n",
    "        return SumPageHtml\n",
    "    elif pathname == \"/PreProcessing\":\n",
    "        return PreHtml  # page_pre_selection_layout\n",
    "\n",
    "    elif pathname == \"/Eda\":\n",
    "        return EdaHtml  # page_eda_layout\n",
    "\n",
    "    elif pathname == \"/Model\":\n",
    "        return ModelHtml  # page_model_layout\n",
    "\n",
    "    elif pathname == \"/Conclusion\":\n",
    "        return ConclusionHtml  # page_conclusion_layout\n",
    "    # If the user tries to reach a different page, return the following message:\n",
    "\n",
    "    return dbc.Jumbotron(\n",
    "        [\n",
    "            html.H4(\"Some instructions before starting:\", className=\"display-10\"),\n",
    "            html.Hr(),\n",
    "            html.P(\"This report is divided into 4 sections, shown in the lef side, select the one where you would like to start.\"),\n",
    "            html.P(\"Have fun with the graphics!\"),\n",
    "            html.P(\"-Andrea Jungo-\"),\n",
    "        ]\n",
    "    )\n"
   ]
  },
  {
   "cell_type": "markdown",
   "metadata": {},
   "source": [
    "## Step 4: Visualize the dashboard in a browser tab"
   ]
  },
  {
   "cell_type": "code",
   "execution_count": 15,
   "metadata": {
    "ExecuteTime": {
     "end_time": "2021-06-05T06:52:00.378575Z",
     "start_time": "2021-06-05T06:52:00.339764Z"
    }
   },
   "outputs": [
    {
     "name": "stdout",
     "output_type": "stream",
     "text": [
      "Dash app running on https://169e6d7d-72a3-4429-bed7-69dd1c4e1c76.app.az.nuvolos.cloud/proxy/8050/\n"
     ]
    }
   ],
   "source": [
    "app.run_server(host='0.0.0.0') #port=9005"
   ]
  }
 ],
 "metadata": {
  "jupytext": {
   "formats": "ipynb,py:percent"
  },
  "kernelspec": {
   "display_name": "Python 3",
   "language": "python",
   "name": "python3"
  },
  "language_info": {
   "codemirror_mode": {
    "name": "ipython",
    "version": 3
   },
   "file_extension": ".py",
   "mimetype": "text/x-python",
   "name": "python",
   "nbconvert_exporter": "python",
   "pygments_lexer": "ipython3",
   "version": "3.8.5"
  }
 },
 "nbformat": 4,
 "nbformat_minor": 4
}
